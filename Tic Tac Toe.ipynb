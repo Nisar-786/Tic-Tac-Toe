{
 "cells": [
  {
   "cell_type": "code",
   "execution_count": null,
   "id": "ae6e21fb",
   "metadata": {},
   "outputs": [
    {
     "name": "stdout",
     "output_type": "stream",
     "text": [
      "Welcome to Tic Tac Toe\n",
      "----------------------\n"
     ]
    }
   ],
   "source": [
    "print(\"Welcome to Tic Tac Toe\")\n",
    "print(\"----------------------\")\n",
    "player1=input(\"Player 1, Choose your letter(X,O):\").upper()\n",
    "if player1==\"X\":\n",
    "    print(\"Player 1 choose X and Player 2 is O\")\n",
    "else:\n",
    "    print(\"Player 1 choose O and Player 2 is X\")\n",
    "player2=\"O\"\n",
    "current_player=player1\n",
    "board=[\" \",\" \",\" \",\" \",\" \",\" \",\" \",\" \",\" \"]\n",
    "def display_board(board):\n",
    "    print(board[0] + \" | \" + board[1] + \" | \" + board[2])\n",
    "    print(\"--+---+--\")\n",
    "    print(board[3] + \" | \" + board[4] + \" | \" + board[5])\n",
    "    print(\"--+---+--\")\n",
    "    print(board[6] + \" | \" + board[7] + \" | \" + board[8])\n",
    "winner=None\n",
    "gameRunning=True\n",
    "def PlayerInput(board):\n",
    "    Input=int(input(\"Enter the number between 1 and 9: \"))\n",
    "    if Input>=1 and Input<=9 and board[Input-1]==\" \":\n",
    "        board[Input-1]=current_player\n",
    "    else:\n",
    "        print(\"Already there is a number\")\n",
    "def chkhorizontally(board):\n",
    "    global winner\n",
    "    if board[0]==board[1]==board[2] and board[0] !=\" \":\n",
    "        winner=board[0]\n",
    "        return True\n",
    "    elif board[3]==board[4]==board[5] and board[3] !=\" \":\n",
    "        winner=board[3]\n",
    "        return True\n",
    "    elif board[6]==board[7]==board[8] and board[6] !=\" \":\n",
    "        winner=board[6]\n",
    "        return True\n",
    "def chkrow(board):\n",
    "    global winner\n",
    "    if board[0]==board[3]==board[6] and board[0] !=\" \":\n",
    "        winner=board[0]\n",
    "        return True\n",
    "    elif board[1]==board[4]==board[7] and board[1] !=\" \":\n",
    "        winner=board[1]\n",
    "        return True\n",
    "    elif board[2]==board[5]==board[8] and board[2] !=\" \":\n",
    "        winner=board[2]\n",
    "        return True\n",
    "def chkdiagonally(board):\n",
    "    global winner\n",
    "    if board[0]==board[4]==board[8] and board[0] !=\" \":\n",
    "        winner=board[0]\n",
    "        return True\n",
    "    elif board[2]==board[1]==board[6] and board[2] !=\" \":\n",
    "        winner=board[2]\n",
    "        return True\n",
    "def chktie(board):\n",
    "    global gameRunning\n",
    "    if \" \" not in board:\n",
    "        display_board(board)\n",
    "        print(\"It is a draw\")\n",
    "        gameRunning=False\n",
    "def chkwin():\n",
    "    global gameRunning\n",
    "    if chkhorizontally(board) or chkrow(board) or chkdiagonally(board):\n",
    "        print(f\"The winner is {winner}\")\n",
    "        gameRunning=False\n",
    "def switchplayer():\n",
    "    global current_player\n",
    "    if current_player==\"X\":\n",
    "        current_player=\"O\"\n",
    "    else:\n",
    "        current_player=\"X\"\n",
    "while gameRunning:\n",
    "    display_board(board)\n",
    "    PlayerInput(board)\n",
    "    chktie(board)\n",
    "    chkwin()\n",
    "    switchplayer()"
   ]
  },
  {
   "cell_type": "code",
   "execution_count": null,
   "id": "04b801a2",
   "metadata": {},
   "outputs": [],
   "source": []
  },
  {
   "cell_type": "code",
   "execution_count": null,
   "id": "ed1a4435",
   "metadata": {},
   "outputs": [],
   "source": []
  }
 ],
 "metadata": {
  "kernelspec": {
   "display_name": "Python 3 (ipykernel)",
   "language": "python",
   "name": "python3"
  },
  "language_info": {
   "codemirror_mode": {
    "name": "ipython",
    "version": 3
   },
   "file_extension": ".py",
   "mimetype": "text/x-python",
   "name": "python",
   "nbconvert_exporter": "python",
   "pygments_lexer": "ipython3",
   "version": "3.10.9"
  }
 },
 "nbformat": 4,
 "nbformat_minor": 5
}
